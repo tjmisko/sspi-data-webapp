{
 "cells": [
  {
   "cell_type": "markdown",
   "id": "6d638fb0-869c-4c4a-bbe4-1d6dc430b65e",
   "metadata": {},
   "source": [
    "# Analysis Setup Notebook\n",
    "\n",
    "This notebook demonstrates how to connect the `SSPIDatabaseConnector` to the local and remote application servers to making piping data into an analysis notebook quick and easy. Analysis can then be carried out in the familiar environment of notebooks then ported back to the application when it is ready."
   ]
  },
  {
   "cell_type": "markdown",
   "id": "b8646186-14c7-4add-80a7-cc79c245b3c7",
   "metadata": {},
   "source": [
    "## Importing the Connector\n",
    "In the cell below, the first two lines modify your `PATH` environment variable so that it includes the location of the root of `sspi-data-webapp` repository (`../..` means *two directories up*). Then, we import the class. The main advantage of using this little connector class over just hitting the API directly with an HTTP request sent from `requests` is that it handles authentication using API Keys automatically.\n",
    "\n",
    "**Note: this quick and dirty modification only works inside of the `sspi-data-webapp/analysis/notebooks` directory. If you are doing analysis somewhere else for some reason and need to import `SSPIDatabaseConnector`, then you'll need to add a different directory to your path.**"
   ]
  },
  {
   "cell_type": "code",
   "execution_count": null,
   "id": "fc473abf-4255-4342-8713-9def61805612",
   "metadata": {},
   "outputs": [],
   "source": [
    "import sys\n",
    "sys.path.append(\"../..\") # adjust the relative path if necessary\n",
    "from connector.SSPIDatabaseConnector import SSPIDatabaseConnector"
   ]
  },
  {
   "cell_type": "markdown",
   "id": "bc23400b-ecbf-4236-a92f-208878e345e8",
   "metadata": {},
   "source": [
    "## Call Local\n",
    "Remember that your application must be running in order to handle requests sent to the local application. Make sure you have flask running on port 5000! To run: open a terminal, `cd` into `sspi-data-webapp` repository, start the virtual environment, and run `flask run --debug`. You do *not* need an internet connection to do this, however!"
   ]
  },
  {
   "cell_type": "code",
   "execution_count": null,
   "id": "fa1f9156-522e-4f34-bbca-082fcedd2646",
   "metadata": {},
   "outputs": [],
   "source": [
    "sspi = SSPIDatabaseConnector()\n",
    "res = sspi.call(\"/api/v1/query/sspi_indicator_data?SeriesCode=BIODIV\") # call to local (your app running on port 5000)\n",
    "res.json()"
   ]
  },
  {
   "cell_type": "markdown",
   "id": "bb5b3891-48f2-48a1-9895-01c4ab47c5ee",
   "metadata": {},
   "source": [
    "## Call Remote\n",
    "\n",
    "You need an internet connection to access the data at https://sspi.world. Additionally, you have less control over the state of the production database online than you do over the local database. If you're using finalized indicator data, getting it from online is probably fine, but if you're sourcing your own data for the analysis, then using the local database is usually easier."
   ]
  },
  {
   "cell_type": "code",
   "execution_count": null,
   "id": "d851259e-84ad-46b2-bb5a-c18374e7d548",
   "metadata": {},
   "outputs": [],
   "source": [
    "sspi = SSPIDatabaseConnector()\n",
    "res = sspi.call(\"/api/v1/query/sspi_indicator_data?SeriesCode=BIODIV\", remote=True) # call to remote (sspi.world)\n",
    "res.json()"
   ]
  }
 ],
 "metadata": {
  "language_info": {
   "name": "python",
   "pygments_lexer": "ipython3"
  }
 },
 "nbformat": 4,
 "nbformat_minor": 5
}
